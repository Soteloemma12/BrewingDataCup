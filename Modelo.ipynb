{
 "cells": [
  {
   "cell_type": "code",
   "execution_count": 94,
   "metadata": {},
   "outputs": [],
   "source": [
    "import pandas as pd\n",
    "import sys\n",
    "import numpy as np\n",
    "import random \n",
    "from statistics import mean\n",
    "import matplotlib.pyplot as plt\n",
    "from matplotlib import pyplot\n",
    "import math\n",
    "from sklearn.cluster import KMeans\n",
    "from sklearn import datasets"
   ]
  },
  {
   "cell_type": "code",
   "execution_count": 95,
   "metadata": {},
   "outputs": [],
   "source": [
    "def haversine(coord1, coord2):\n",
    "    R = 6372800  # Earth radius in meters\n",
    "    i,a,b,lat1, lon1 = coord1\n",
    "    i,a,b,lat2, lon2 = coord2\n",
    "    \n",
    "    phi1, phi2 = math.radians(lat1), math.radians(lat2) \n",
    "    dphi       = math.radians(lat2 - lat1)\n",
    "    dlambda    = math.radians(lon2 - lon1)\n",
    "    \n",
    "    a = math.sin(dphi/2)**2 + \\\n",
    "        math.cos(phi1)*math.cos(phi2)*math.sin(dlambda/2)**2\n",
    "    \n",
    "    return 2*R*math.atan2(math.sqrt(a), math.sqrt(1 - a))"
   ]
  },
  {
   "cell_type": "code",
   "execution_count": 96,
   "metadata": {},
   "outputs": [],
   "source": [
    "data=pd.read_csv(\"//home/emmanuel/Documents/ProgramasMaestria/Modelo/data/ubicaciones.csv\")"
   ]
  },
  {
   "cell_type": "code",
   "execution_count": 97,
   "metadata": {},
   "outputs": [
    {
     "data": {
      "text/html": [
       "<div>\n",
       "<style scoped>\n",
       "    .dataframe tbody tr th:only-of-type {\n",
       "        vertical-align: middle;\n",
       "    }\n",
       "\n",
       "    .dataframe tbody tr th {\n",
       "        vertical-align: top;\n",
       "    }\n",
       "\n",
       "    .dataframe thead th {\n",
       "        text-align: right;\n",
       "    }\n",
       "</style>\n",
       "<table border=\"1\" class=\"dataframe\">\n",
       "  <thead>\n",
       "    <tr style=\"text-align: right;\">\n",
       "      <th></th>\n",
       "      <th>Id_Cliente</th>\n",
       "      <th>id_Agencia</th>\n",
       "      <th>Frecuencia</th>\n",
       "      <th>Vol_Entrega</th>\n",
       "      <th>lat</th>\n",
       "      <th>lon</th>\n",
       "    </tr>\n",
       "  </thead>\n",
       "  <tbody>\n",
       "    <tr>\n",
       "      <th>0</th>\n",
       "      <td>1</td>\n",
       "      <td>A1</td>\n",
       "      <td>1</td>\n",
       "      <td>2.0</td>\n",
       "      <td>20.506052</td>\n",
       "      <td>-98.212377</td>\n",
       "    </tr>\n",
       "    <tr>\n",
       "      <th>1</th>\n",
       "      <td>2</td>\n",
       "      <td>A1</td>\n",
       "      <td>1</td>\n",
       "      <td>17.0</td>\n",
       "      <td>20.458128</td>\n",
       "      <td>-98.221248</td>\n",
       "    </tr>\n",
       "    <tr>\n",
       "      <th>2</th>\n",
       "      <td>3</td>\n",
       "      <td>A1</td>\n",
       "      <td>1</td>\n",
       "      <td>2.0</td>\n",
       "      <td>20.530427</td>\n",
       "      <td>-98.236860</td>\n",
       "    </tr>\n",
       "    <tr>\n",
       "      <th>3</th>\n",
       "      <td>4</td>\n",
       "      <td>A1</td>\n",
       "      <td>3</td>\n",
       "      <td>15.0</td>\n",
       "      <td>20.488655</td>\n",
       "      <td>-98.202940</td>\n",
       "    </tr>\n",
       "    <tr>\n",
       "      <th>4</th>\n",
       "      <td>5</td>\n",
       "      <td>A1</td>\n",
       "      <td>1</td>\n",
       "      <td>2.0</td>\n",
       "      <td>20.533253</td>\n",
       "      <td>-98.219669</td>\n",
       "    </tr>\n",
       "  </tbody>\n",
       "</table>\n",
       "</div>"
      ],
      "text/plain": [
       "   Id_Cliente id_Agencia  Frecuencia  Vol_Entrega        lat        lon\n",
       "0           1         A1           1          2.0  20.506052 -98.212377\n",
       "1           2         A1           1         17.0  20.458128 -98.221248\n",
       "2           3         A1           1          2.0  20.530427 -98.236860\n",
       "3           4         A1           3         15.0  20.488655 -98.202940\n",
       "4           5         A1           1          2.0  20.533253 -98.219669"
      ]
     },
     "execution_count": 97,
     "metadata": {},
     "output_type": "execute_result"
    }
   ],
   "source": [
    "data.head()"
   ]
  },
  {
   "cell_type": "code",
   "execution_count": 5,
   "metadata": {},
   "outputs": [],
   "source": [
    "X=data[['Id_Cliente',\"Frecuencia\",\"Vol_Entrega\",\"lat\",\"lon\"]].to_numpy()\n",
    "X=list(X)"
   ]
  },
  {
   "cell_type": "code",
   "execution_count": 6,
   "metadata": {},
   "outputs": [],
   "source": [
    "climit=data.Frecuencia.sum()/6\n",
    "vmax=data.Frecuencia*data.Vol_Entrega\n",
    "vlim=vmax.sum()/6"
   ]
  },
  {
   "cell_type": "code",
   "execution_count": 7,
   "metadata": {},
   "outputs": [],
   "source": [
    "#Matriz de Distancias\n",
    "ntotal=len(X)\n",
    "evalu=[]\n",
    "for i in range(ntotal):\n",
    "    ss=[]\n",
    "    for j in range(ntotal):\n",
    "        ss.append(0)\n",
    "    evalu.append(ss)\n",
    "for i in range(ntotal):\n",
    "    for j in range(ntotal):\n",
    "        if j>i:\n",
    "            evalu[i][j]=haversine(X[i], X[j])\n",
    "            evalu[j][i]=evalu[i][j]"
   ]
  },
  {
   "cell_type": "code",
   "execution_count": 98,
   "metadata": {},
   "outputs": [],
   "source": [
    "def f(y,C):\n",
    "    cliente1=[]\n",
    "    cliente2=[]\n",
    "    cliente3=[]\n",
    "    cliente4=[]\n",
    "    cliente5=[]\n",
    "    cliente6=[]\n",
    "    dist=0\n",
    "    maximos=[]\n",
    "    for i in range(len(y)):\n",
    "        if y[i]==0:\n",
    "            cliente1.append(i)\n",
    "        if y[i]==1:\n",
    "            cliente2.append(i)\n",
    "        if y[i]==2:\n",
    "            cliente3.append(i)\n",
    "        if y[i]==3:\n",
    "            cliente4.append(i)\n",
    "        if y[i]==4:\n",
    "            cliente5.append(i)\n",
    "        if y[i]==5:\n",
    "            cliente6.append(i)\n",
    "    aux=[]\n",
    "    for i in cliente1:\n",
    "        aux.append(evalu[C[0]][i])\n",
    "    maximos.append(max(aux))\n",
    "    dist+=max(aux)\n",
    "    aux=[]\n",
    "    for i in cliente2:\n",
    "        aux.append(evalu[C[1]][i])\n",
    "    maximos.append(max(aux))\n",
    "    dist+=max(aux)\n",
    "    aux=[]\n",
    "    for i in cliente3:\n",
    "        aux.append(evalu[C[2]][i])\n",
    "    maximos.append(max(aux))\n",
    "    dist+=max(aux)\n",
    "    aux=[]\n",
    "    for i in cliente4:\n",
    "        aux.append(evalu[C[3]][i])\n",
    "    maximos.append(max(aux))\n",
    "    dist+=max(aux)\n",
    "    aux=[]\n",
    "    for i in cliente5:\n",
    "        aux.append(evalu[C[4]][i])\n",
    "    maximos.append(max(aux))\n",
    "    dist+=max(aux)\n",
    "    aux=[]\n",
    "    for i in cliente6:\n",
    "        aux.append(evalu[C[5]][i])\n",
    "    maximos.append(max(aux))\n",
    "    dist+=max(aux)\n",
    "    return dist,maximos \n",
    "def centros(X):\n",
    "    C=[]\n",
    "    aux=random.choice(X)\n",
    "    while(aux[1]!=1):\n",
    "        aux=random.choice(X)\n",
    "    C.append(int(aux[0]))\n",
    "    dist=evalu[int(C[0]-1)]\n",
    "    aux=random.choice(dist)\n",
    "    while(aux<=mean(dist)*0.7):\n",
    "        aux=random.choice(dist)\n",
    "    indx=dist.index(aux)\n",
    "    C.append(int(X[indx][0]))\n",
    "    for i in range(4):\n",
    "        dist=np.array(dist)\n",
    "        dist+=np.array(evalu[int(C[i+1]-1)])\n",
    "        dist=list(dist)\n",
    "        aux=random.choice(dist)\n",
    "        while(aux<=mean(dist)*0.9):\n",
    "            aux=random.choice(dist)\n",
    "        indx=dist.index(aux)\n",
    "        C.append(int(X[indx][0]))    \n",
    "    return C\n",
    "\n",
    "def clientes(C,X,asig,frec):\n",
    "    for i in range(6):\n",
    "        dist=evalu[C[i]-1].copy()\n",
    "        dist[C[i]-1]=1000000000\n",
    "        asig[i][C[i]-1]=1\n",
    "        frec[C[i]-1]-=1\n",
    "        maxv=X[C[i]-1][2]\n",
    "        j=1\n",
    "        f=[]\n",
    "        for k in range(len(frec)):\n",
    "            if(frec[k]>1):\n",
    "                f.append(dist[k])\n",
    "        for k in range(len(f)):\n",
    "            aux=min(f)\n",
    "            ind=f.index(aux)\n",
    "            indx=dist.index(aux)\n",
    "            while(frec[indx]<1):\n",
    "                dist[indx]=10000000000\n",
    "                f[ind]=10000000000\n",
    "                aux=min(f)\n",
    "                indx=dist.index(aux)\n",
    "                ind=f.index(aux)\n",
    "            dist[indx]=1000000000\n",
    "            f[ind]=10000000000\n",
    "            asig[i][indx]=1\n",
    "            frec[indx]-=1\n",
    "            maxv+=X[indx][2]\n",
    "            j=j+1\n",
    "        while(sum(frec)>=1):\n",
    "                aux=min(dist)\n",
    "                indx=dist.index(aux)\n",
    "                while(frec[indx]<1):\n",
    "                    dist[indx]=10000000000\n",
    "                    aux=min(dist)\n",
    "                    indx=dist.index(aux)\n",
    "                dist[indx]=1000000000\n",
    "                asig[i][indx]=1\n",
    "                frec[indx]-=1\n",
    "                maxv+=X[indx][2]\n",
    "                j=j+1\n",
    "                if(maxv>=vlim*1.1):\n",
    "                    break\n",
    "                if(j>=climit*1.1):\n",
    "                    break\n",
    "        print(maxv,vlim,j,climit)"
   ]
  },
  {
   "cell_type": "code",
   "execution_count": 103,
   "metadata": {},
   "outputs": [
    {
     "name": "stdout",
     "output_type": "stream",
     "text": [
      "[2037, 2372, 2390, 2537, 14, 2553]\n",
      "9985.499999995998 9066.666666664665 630 662.8333333333334\n",
      "9555.499999996 9066.666666664665 730 662.8333333333334\n",
      "9918.333333333 9066.666666664665 730 662.8333333333334\n",
      "9976.499999993 9066.666666664665 636 662.8333333333334\n",
      "8656.0 9066.666666664665 730 662.8333333333334\n",
      "6296.16666667 9066.666666664665 521 662.8333333333334\n",
      "[3564, 996, 2536, 1654, 3361, 3363]\n",
      "9975.499999996002 9066.666666664665 660 662.8333333333334\n",
      "9987.999999996 9066.666666664665 705 662.8333333333334\n",
      "9981.16666666 9066.666666664665 726 662.8333333333334\n",
      "8769.000000003001 9066.666666664665 730 662.8333333333334\n",
      "8927.5 9066.666666664665 730 662.8333333333334\n",
      "6690.833333333 9066.666666664665 426 662.8333333333334\n",
      "[2743, 2899, 329, 1178, 445, 2384]\n",
      "9975.499999996 9066.666666664665 660 662.8333333333334\n",
      "9978.499999996 9066.666666664665 728 662.8333333333334\n",
      "8590.500000003001 9066.666666664665 730 662.8333333333334\n",
      "9854.333333333 9066.666666664665 730 662.8333333333334\n",
      "9976.0 9066.666666664665 726 662.8333333333334\n",
      "6028.166666660001 9066.666666664665 403 662.8333333333334\n",
      "[2925, 1755, 264, 2994, 1524, 155]\n",
      "10011.499999996002 9066.666666664665 641 662.8333333333334\n",
      "9749.999999996 9066.666666664665 730 662.8333333333334\n",
      "8740.000000003001 9066.666666664665 730 662.8333333333334\n",
      "10007.16666666 9066.666666664665 657 662.8333333333334\n",
      "8837.66666666 9066.666666664665 730 662.8333333333334\n",
      "7022.166666673 9066.666666664665 489 662.8333333333334\n",
      "[2511, 3266, 2225, 1994, 2500, 1508]\n",
      "9977.499999996002 9066.666666664665 701 662.8333333333334\n",
      "8367.999999996 9066.666666664665 730 662.8333333333334\n",
      "9983.33333333 9066.666666664665 633 662.8333333333334\n",
      "9974.16666666 9066.666666664665 650 662.8333333333334\n",
      "9703.500000003 9066.666666664665 730 662.8333333333334\n",
      "6393.5000000029995 9066.666666664665 533 662.8333333333334\n"
     ]
    }
   ],
   "source": [
    "k=False\n",
    "while( k==False):\n",
    "    asig=[]\n",
    "    for i in range(6):\n",
    "        ss=[]\n",
    "        for j in range(ntotal):\n",
    "            ss.append(0)\n",
    "        asig.append(ss)\n",
    "    frec=list(np.array(data.Frecuencia))\n",
    "\n",
    "    a=centros(X)\n",
    "\n",
    "    print(a)\n",
    "\n",
    "    clientes(a,X,asig,frec)\n",
    "    j=0\n",
    "\n",
    "    for i in frec:\n",
    "        if(i==0):\n",
    "            j+=1\n",
    "    if(j==3625):\n",
    "        k=True\n",
    "        "
   ]
  },
  {
   "cell_type": "code",
   "execution_count": 100,
   "metadata": {},
   "outputs": [],
   "source": [
    "out=pd.DataFrame(asig)\n",
    "out=out.T\n",
    "out['C'] = np.arange(1,len(out)+1)\n",
    "out.columns = ['D1','D2','D3','D4','D5','D6','Id_Cliente']\n",
    "out=out[['Id_Cliente','D1','D2','D3','D4','D5','D6']]\n",
    "out.to_csv('out.csv',index=False)"
   ]
  },
  {
   "cell_type": "code",
   "execution_count": 40,
   "metadata": {},
   "outputs": [
    {
     "data": {
      "image/png": "[encoded data removed]",
      "text/plain": [
       "<Figure size 432x288 with 1 Axes>"
      ]
     },
     "metadata": {
      "needs_background": "light"
     },
     "output_type": "display_data"
    }
   ],
   "source": [
    "x=0\n",
    "colores=['red','green','orange','cyan','yellow','black']\n",
    "for i in range(len(a)):\n",
    "    plt.scatter(data.lat[a[i]-1],data.lon[a[i]-1],c=colores[i],s=200)\n",
    "    for j in range(len(asig[i])):\n",
    "        if(asig[i][j]==1):\n",
    "            plt.scatter(data.lat[j],data.lon[j],c=colores[i])"
   ]
  },
  {
   "cell_type": "code",
   "execution_count": 42,
   "metadata": {},
   "outputs": [],
   "source": [
    "out=pd.DataFrame(asig)"
   ]
  },
  {
   "cell_type": "code",
   "execution_count": 43,
   "metadata": {},
   "outputs": [],
   "source": [
    "out=out.T\n",
    "out['C'] = np.arange(1,len(out)+1)\n",
    "out.columns = ['D1','D2','D3','D4','D5','D6','Id_Cliente']\n",
    "out=out[['Id_Cliente','D1','D2','D3','D4','D5','D6']]"
   ]
  },
  {
   "cell_type": "code",
   "execution_count": 44,
   "metadata": {},
   "outputs": [],
   "source": [
    "out.to_csv('out.csv',index=False)"
   ]
  },
  {
   "cell_type": "code",
   "execution_count": 897,
   "metadata": {},
   "outputs": [],
   "source": [
    "out['Frecuency']=data.Frecuencia"
   ]
  },
  {
   "cell_type": "code",
   "execution_count": 898,
   "metadata": {},
   "outputs": [],
   "source": [
    "out=out.to_numpy()"
   ]
  },
  {
   "cell_type": "code",
   "execution_count": 548,
   "metadata": {},
   "outputs": [],
   "source": [
    "z=[]\n",
    "for i in range(len(out)):\n",
    "    if(out[i][1]+out[i][2]+out[i][3]+out[i][4]+out[i][5]+out[i][6]!=out[i][7]):\n",
    "        print(out[i][1]+out[i][2]+out[i][3]+out[i][4]+out[i][5]+out[i][6],out[i][7],i)\n",
    "        z.append(i)"
   ]
  },
  {
   "cell_type": "code",
   "execution_count": 549,
   "metadata": {},
   "outputs": [],
   "source": [
    "for i in z:\n",
    "    print(out[i])"
   ]
  },
  {
   "cell_type": "code",
   "execution_count": null,
   "metadata": {},
   "outputs": [],
   "source": []
  }
 ],
 "metadata": {
  "kernelspec": {
   "display_name": "Python 3",
   "language": "python",
   "name": "python3"
  },
  "language_info": {
   "codemirror_mode": {
    "name": "ipython",
    "version": 3
   },
   "file_extension": ".py",
   "mimetype": "text/x-python",
   "name": "python",
   "nbconvert_exporter": "python",
   "pygments_lexer": "ipython3",
   "version": "3.8.3"
  }
 },
 "nbformat": 4,
 "nbformat_minor": 4
}
